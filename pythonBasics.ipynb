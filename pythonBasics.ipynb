{
 "cells": [
  {
   "cell_type": "markdown",
   "id": "acb93d1a",
   "metadata": {},
   "source": [
    "**Einführung Python**"
   ]
  },
  {
   "cell_type": "markdown",
   "id": "cb54bc7f",
   "metadata": {},
   "source": [
    "# Was zeichnet Python aus?\n",
    "- meistgenutzte und eine der beliebtesten Programmiersprachen ([Statista](https://de.statista.com/statistik/daten/studie/678732/umfrage/beliebteste-programmiersprachen-weltweit-laut-pypl-index/))\n",
    "## Vorteile\n",
    "- Vielseitig anwendbar\n",
    "- großes Ökosystem von Bibliotheken\n",
    "- Lesbarkeit & Lernbarkeit\n",
    "- interpretiert, verwendet C für bestimmte Prozesse mit festem Rahmen\n",
    "- Multiparadigmatisch (prozedural, funktional, objektorientiert)\n",
    "\n",
    "## Nachteile\n",
    "- Langsamer\n",
    "- weniger \"robust\" weil nicht statisch getyped\n",
    "- Indentierung\n",
    "\n",
    "## Wofür entwickelt?\n",
    "- Wissenschaftliche Arbeiten (Lesbarkeit)\n",
    "- Einfache Verwendung für Nicht-Programmierer\n",
    "- Use Cases: Mathematik, Scripting, Data Science, IoT (RasPi), Web Development\n",
    "\n",
    "## Installation\n",
    "- Windows: .exe herunterladen uns ausführen\n",
    "- Linux: Vorinstalliert\n",
    "- Mac: .pkg Datei ausführen"
   ]
  },
  {
   "cell_type": "markdown",
   "id": "a0f3dd3a",
   "metadata": {},
   "source": [
    "# Datentypen & -strukturen\n",
    "- primitiv: int, float\n",
    "- per Klasse definiert: string, boolean, dictionary, list, tuple, set, None, ...\n",
    "- Mutabilität: `list`, `dict`, `set` sind *mutabel*; `str`, `tuple` sind *immutabel*."
   ]
  },
  {
   "cell_type": "code",
   "execution_count": 5,
   "id": "5250a065",
   "metadata": {},
   "outputs": [
    {
     "name": "stdout",
     "output_type": "stream",
     "text": [
      "Hello World\n",
      "[1, 2, 3, 4, 5, 6]\n"
     ]
    }
   ],
   "source": [
    "# Beispiele für Deklarationen\n",
    "x = 5\n",
    "y = \"Hello\"\n",
    "z = [1, 2, 3]\n",
    "\n",
    "# String-Operationen\n",
    "a = \"Hello\"\n",
    "b = \"World\"\n",
    "c = a + \" \" + b\n",
    "print(c)\n",
    "\n",
    "# List-Operationen\n",
    "d = [1, 2, 3]\n",
    "e = [4, 5, 6]\n",
    "f = d + e\n",
    "print(f)\n"
   ]
  },
  {
   "cell_type": "markdown",
   "id": "459f8097",
   "metadata": {},
   "source": [
    "# Typing\n",
    "- nicht statisch vergeben, ist dynamic\n",
    "- wird vom interpreter inferiert (aus dem Kontext geschlussfolgert)\n",
    "- Entwickler bedienen sich des typehintings, also dem vermerken des Datentyps in der Deklaration\n",
    "- Typehints werden nicht strikt durchgesetzt, der Linter (Programm, welches die Syntax auf Fehler und \"unschöne\" Formatierungen prüft) markiert diese für den Entwickler\n",
    "- Trotz Typehint werden keine Fehler aufgeworfen, nur Warnungen"
   ]
  },
  {
   "cell_type": "code",
   "execution_count": null,
   "id": "402b7d21",
   "metadata": {},
   "outputs": [],
   "source": [
    "# Beispiele für Deklarationen mit Typehint\n",
    "x: int = 5\n",
    "y: str = \"Hello\"\n",
    "z: list[int] = [1, 2, 3]\n"
   ]
  },
  {
   "cell_type": "markdown",
   "id": "ed24fc0b",
   "metadata": {},
   "source": [
    "# Schleifen und Bedingungen (Kontrollstrukturen)\n",
    "\n",
    "## Schleifen\n",
    "- wiederholen vordefinierte Prozesse\n",
    "- For: Zählschleife (wird vom unterliegenden C-Compiler ausgeführt -> schnell)\n",
    "- While: bedingte Schleife (wird vom Python Interpreter ausgeführt -> langsam)\n",
    "    - Es existieren keine Fußgesteuerten Schleifen in Python\n",
    "- break: springt aus der Schleife raus\n",
    "- continue: springt zur nächsten Iteration\n",
    "\n",
    "# Bedingungen\n",
    "- if, elif, else -> Fallunterscheidung"
   ]
  },
  {
   "cell_type": "code",
   "execution_count": null,
   "id": "169858ea",
   "metadata": {},
   "outputs": [
    {
     "ename": "NameError",
     "evalue": "name 'x' is not defined",
     "output_type": "error",
     "traceback": [
      "\u001b[31m---------------------------------------------------------------------------\u001b[39m",
      "\u001b[31mNameError\u001b[39m                                 Traceback (most recent call last)",
      "\u001b[36mCell\u001b[39m\u001b[36m \u001b[39m\u001b[32mIn[1]\u001b[39m\u001b[32m, line 2\u001b[39m\n\u001b[32m      1\u001b[39m \u001b[38;5;66;03m# Beispiele für Kontrollstrukturen\u001b[39;00m\n\u001b[32m----> \u001b[39m\u001b[32m2\u001b[39m \u001b[38;5;28;01mif\u001b[39;00m \u001b[43mx\u001b[49m > \u001b[32m0\u001b[39m:\n\u001b[32m      3\u001b[39m     \u001b[38;5;28mprint\u001b[39m(\u001b[33m\"\u001b[39m\u001b[33mx ist positiv\u001b[39m\u001b[33m\"\u001b[39m)\n\u001b[32m      4\u001b[39m \u001b[38;5;28;01melif\u001b[39;00m x < \u001b[32m0\u001b[39m:\n",
      "\u001b[31mNameError\u001b[39m: name 'x' is not defined"
     ]
    }
   ],
   "source": [
    "# Beispiele für Kontrollstrukturen\n",
    "if x > 0:\n",
    "    print(\"x ist positiv\")\n",
    "elif x < 0:\n",
    "    print(\"x ist negativ\")\n",
    "else:\n",
    "    print(\"x ist null\")\n",
    "\n",
    "for i in range(10):\n",
    "    print(i)\n",
    "\n",
    "while y:\n",
    "    print(y)\n",
    "\n",
    "# do-while-Idiom\n",
    "while True:\n",
    "    txt = 'ende'  # ersetze durch: input('Text (ende zum Stoppen): ')\n",
    "    print('eingabe:', txt)\n",
    "    if txt == 'ende':\n",
    "        break"
   ]
  },
  {
   "cell_type": "markdown",
   "id": "2608235e",
   "metadata": {},
   "source": [
    "# Funktionen & Module & Bibliotheken\n",
    "- Funktionen verkapseln Funktionalität unter einem Bezeichner\n",
    "- Können Parameter annehmen und Werte zurückgeben\n",
    "- Müssen in der Quelldatei oberhalb des Aufrufs definiert werden\n",
    "\n",
    "- Parameter: \n",
    "    - Positions-/Keyword-Argumente\n",
    "    - Default-Werte (werden **einmalig** ausgewertet)\n",
    "    - Variadische (`*args`, `**kwargs`)\n",
    "    - Keyword-only und Positions-only (Marker `*` und `/`)\n",
    "\n",
    "- Module sind .py-Dateien\n",
    "- Funktionen können in Modulen gesammelt und in anderen Modulen importiert und aufgerufen werden\n",
    "- Bibliotheken/Frameworks sind Sammlungen von Modulen, welche von außen zum eigenen Code hinzugefügt werden können (z.B. Datetime, JSON/CSV, numpy, random, ...)\n",
    "- Bibliotheken/Frameworks sind entweder in Python integriert oder vollständig extern entwickelt (z.B. FastAPI, Flask)\n",
    "- Externe Bibliotheken/Frameworks können über Pythons Package manager pip (Package Installer for Python) oder manuell installiert werden\n",
    "\n",
    "## Zusatz: Lambdas\n",
    "- Anonyme Funktionen\n",
    "- Use Case: Können als Parameter an andere Funktionen übergeben werden"
   ]
  },
  {
   "cell_type": "code",
   "execution_count": null,
   "id": "65674dbd",
   "metadata": {},
   "outputs": [],
   "source": [
    "# Beispiele\n",
    "import random\n",
    "from datetime import datetime as dt # Importieren einer Funktion einer Bibliothek unter dem Alias \"dt\"\n",
    "\n",
    "def aktuelle_zeit() -> dt:  # Funktion mit Bezeichner \"aktuelle_zeit\" und typehint für Rückgabewert als \"dt\", keine Parameter\n",
    "    jetzt = dt.now()\n",
    "    print(\"Aktuelles Datum und Uhrzeit: \", jetzt)\n",
    "    return jetzt # Rückgabe der Funktion\n",
    "\n",
    "aktuelle_zeit() # Aufrufen der zuvor definierten Funktion\n",
    "\n",
    "zufallszahl = random.randint(1, 100)    # weiteres Beispiel für importierte Funktion\n",
    "print(\"Zufallszahl zwischen 1 und 100:\", zufallszahl)\n",
    "\n",
    "\n",
    "# Beispiel für Lambda-Funktionen\n",
    "vielfache_von_drei = filter(lambda x: x % 3 == 0, [1, 2, 3, 4, 5, 6, 7, 8, 9, 10]) # filtert alle Vielfachen von 3 aus dem Bereich 1-10"
   ]
  },
  {
   "cell_type": "markdown",
   "id": "62bf36a4",
   "metadata": {},
   "source": [
    "# Generator\n",
    "- Funktion, die mit jedem Aufruf bei gleichen Parametern einen anderen Ausgabewert liefern kann\n",
    "- Kann Zustände speichern"
   ]
  },
  {
   "cell_type": "code",
   "execution_count": 2,
   "id": "3f1a0d75",
   "metadata": {},
   "outputs": [
    {
     "name": "stdout",
     "output_type": "stream",
     "text": [
      "Generator gibt aus: 1\n",
      "Generator gibt aus: 2\n",
      "Generator gibt aus: 3\n",
      "Generator gibt aus: 4\n"
     ]
    }
   ],
   "source": [
    "# Beispiel für einen Generator\n",
    "def zaehler(start: int, stop: int):\n",
    "    while start < stop:\n",
    "        yield start\n",
    "        start += 1\n",
    "\n",
    "for zahl in zaehler(1, 5):\n",
    "    print(\"Generator gibt aus:\", zahl)\n"
   ]
  },
  {
   "cell_type": "markdown",
   "id": "3941d228",
   "metadata": {},
   "source": [
    "# List/Dict Comprehension\n",
    "- Effiziente Methode zum generieren neuer Listen/Dictionaries aus iterierbaren Objekten\n",
    "- Wird vom unterliegenden C-Code ausgeführt"
   ]
  },
  {
   "cell_type": "code",
   "execution_count": 4,
   "id": "f87e2f5d",
   "metadata": {},
   "outputs": [
    {
     "name": "stdout",
     "output_type": "stream",
     "text": [
      "Quadrate der Zahlen 1 bis 10: [1, 4, 9, 16, 25, 36, 49, 64, 81, 100]\n",
      "Quadrate der Zahlen 1 bis 10 (Dict): {1: 1, 2: 4, 3: 9, 4: 16, 5: 25, 6: 36, 7: 49, 8: 64, 9: 81, 10: 100}\n"
     ]
    }
   ],
   "source": [
    "# Beispiel für eine List Comprehension\n",
    "quadrate = [x**2 for x in range(1, 11)]\n",
    "print(\"Quadrate der Zahlen 1 bis 10:\", quadrate)\n",
    "\n",
    "\n",
    "# Beispiel für eine Dict Comprehension\n",
    "quadrate_dict = {x: x**2 for x in range(1, 11)}\n",
    "print(\"Quadrate der Zahlen 1 bis 10 (Dict):\", quadrate_dict)"
   ]
  },
  {
   "cell_type": "markdown",
   "id": "a12d2f57",
   "metadata": {},
   "source": [
    "# context manager\n",
    "- Ermöglicht zuverlässiges Arbeiten mit Ressourcen\n",
    "- Ressourcen werden kontrolliert eingerichtet und nach Verwendung bereinigt"
   ]
  },
  {
   "cell_type": "code",
   "execution_count": null,
   "id": "d4a4d783",
   "metadata": {},
   "outputs": [],
   "source": [
    "# Beispiel für einen context manager\n",
    "\n",
    "with open(\"beispiel.txt\", \"r\") as datei:\n",
    "    inhalt = datei.read()\n",
    "    print(\"Inhalt der Datei:\", inhalt)\n",
    "\n",
    "# Manuelles äquivalent (nicht empfohlen)\n",
    "f = open(\"beispiel.txt\", \"r\")\n",
    "inhalt = f.read()\n",
    "print(\"Inhalt der Datei:\", inhalt)\n",
    "# Hier könnten Fehler auftreten -> Datei wird nicht geschlossen?\n",
    "f.close()"
   ]
  },
  {
   "cell_type": "markdown",
   "id": "6cd865b7",
   "metadata": {},
   "source": [
    "# Exception Handling\n",
    "- Ermöglicht das Abfangen und Verarbeiten von potenziell auftretenden Fehlern\n"
   ]
  },
  {
   "cell_type": "code",
   "execution_count": null,
   "id": "1f3cc79e",
   "metadata": {},
   "outputs": [],
   "source": [
    "try:\n",
    "    f = open(\"beispiel.txt\", \"r\")\n",
    "    inhalt = f.read()\n",
    "    print(\"Inhalt der Datei:\", inhalt)\n",
    "except FileNotFoundError:\n",
    "    print(\"Datei konnte nicht gefunden werden.\")\n",
    "finally:\n",
    "    f.close()"
   ]
  }
 ],
 "metadata": {
  "kernelspec": {
   "display_name": "Python 3",
   "language": "python",
   "name": "python3"
  },
  "language_info": {
   "codemirror_mode": {
    "name": "ipython",
    "version": 3
   },
   "file_extension": ".py",
   "mimetype": "text/x-python",
   "name": "python",
   "nbconvert_exporter": "python",
   "pygments_lexer": "ipython3",
   "version": "3.12.3"
  }
 },
 "nbformat": 4,
 "nbformat_minor": 5
}
