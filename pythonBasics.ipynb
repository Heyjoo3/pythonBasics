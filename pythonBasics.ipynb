{
 "cells": [
  {
   "cell_type": "markdown",
   "id": "acb93d1a",
   "metadata": {},
   "source": [
    "**Einführung Python**"
   ]
  },
  {
   "cell_type": "markdown",
   "id": "052cbb4b",
   "metadata": {},
   "source": [
    "- eine der beliebtesten Programmiersprachen ([text](https://de.statista.com/statistik/daten/studie/678732/umfrage/beliebteste-programmiersprachen-weltweit-laut-pypl-index/))\n",
    "- Anwendung: web development, software development, mathematics, system scripting\n",
    "- einfacher, kanpper sytanx. Orientiert sich an der Englischen sprache\n",
    "- interpretierte, höhere Programmiersprache\n",
    "- unterstützt mehere Programmierparadigmen"
   ]
  },
  {
   "cell_type": "code",
   "execution_count": 1,
   "id": "0b5e3d4f",
   "metadata": {},
   "outputs": [
    {
     "name": "stdout",
     "output_type": "stream",
     "text": [
      "Hello, World!\n"
     ]
    }
   ],
   "source": [
    "print(\"Hello, World!\")"
   ]
  }
 ],
 "metadata": {
  "kernelspec": {
   "display_name": "Python 3",
   "language": "python",
   "name": "python3"
  },
  "language_info": {
   "codemirror_mode": {
    "name": "ipython",
    "version": 3
   },
   "file_extension": ".py",
   "mimetype": "text/x-python",
   "name": "python",
   "nbconvert_exporter": "python",
   "pygments_lexer": "ipython3",
   "version": "3.12.3"
  }
 },
 "nbformat": 4,
 "nbformat_minor": 5
}
