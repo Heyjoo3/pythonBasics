{
 "cells": [
  {
   "cell_type": "markdown",
   "id": "acb93d1a",
   "metadata": {},
   "source": [
    "**Einführung Python**"
   ]
  },
  {
   "cell_type": "markdown",
   "id": "052cbb4b",
   "metadata": {},
   "source": [
    "- eine der beliebtesten Programmiersprachen ([Statista](https://de.statista.com/statistik/daten/studie/678732/umfrage/beliebteste-programmiersprachen-weltweit-laut-pypl-index/))\n",
    "- Anwendung: web development, software development, mathematics, system scripting\n",
    "- einfacher, kanpper sytanx. Orientiert sich an der Englischen sprache\n",
    "- interpretierte, höhere Programmiersprache\n",
    "- unterstützt mehere Programmierparadigmen"
   ]
  },
  {
   "cell_type": "markdown",
   "id": "66174d79",
   "metadata": {},
   "source": [
    "- Interpeter\n",
    "- Datentypen (int, str, float, \"boolean\")\n",
    "- dynamic typing\n",
    "- typehinting\n",
    "- Datenstrukturen (lists, dicts, tuples, sets) mutable?\n",
    "- Bedingungen & Schleifen\n",
    "- funktionen\n",
    "- module & imports\n",
    "- Standardbibliotheken und pip\n",
    "- context manager (file reading) und json\n",
    "- generator & list comprehension\n",
    "- lambdas\n",
    "- Anwendungsfälle:\n",
    "    - WebDev: FastAPI, Flask, Django\n",
    "    - Data Science & Mathematik: pandas, numpy, matplotlib (Visualisierung)\n",
    "    - Scripting\n"
   ]
  }
 ],
 "metadata": {
  "kernelspec": {
   "display_name": "Python 3 (ipykernel)",
   "language": "python",
   "name": "python3"
  },
  "language_info": {
   "codemirror_mode": {
    "name": "ipython",
    "version": 3
   },
   "file_extension": ".py",
   "mimetype": "text/x-python",
   "name": "python",
   "nbconvert_exporter": "python",
   "pygments_lexer": "ipython3",
   "version": "3.13.7"
  }
 },
 "nbformat": 4,
 "nbformat_minor": 5
}
